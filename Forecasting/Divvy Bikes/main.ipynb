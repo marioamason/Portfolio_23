{
 "cells": [
  {
   "cell_type": "code",
   "execution_count": 56,
   "metadata": {},
   "outputs": [],
   "source": [
    "import os\n",
    "import pandas as pd\n",
    "from file_merge import merge_data_from_folder\n",
    "import matplotlib.pyplot as plt\n",
    "from statsmodels.tsa.seasonal import seasonal_decompose\n",
    "import requests\n"
   ]
  },
  {
   "cell_type": "code",
   "execution_count": 5,
   "metadata": {},
   "outputs": [
    {
     "name": "stdout",
     "output_type": "stream",
     "text": [
      "                  ride_id  rideable_type           started_at  \\\n",
      "0        EC2DE40644C6B0F4   classic_bike  2022-05-23 23:06:58   \n",
      "1        1C31AD03897EE385   classic_bike  2022-05-11 08:53:28   \n",
      "2        1542FBEC830415CF   classic_bike  2022-05-26 18:36:28   \n",
      "3        6FF59852924528F8   classic_bike  2022-05-10 07:30:07   \n",
      "4        483C52CAAE12E3AC   classic_bike  2022-05-10 17:31:56   \n",
      "...                   ...            ...                  ...   \n",
      "5859056  8B441A6C436E9900   classic_bike  2023-04-29 21:20:21   \n",
      "5859057  3980D64BE11540F1   classic_bike  2023-04-24 09:16:05   \n",
      "5859058  3EF4B49FF7DAA02C   classic_bike  2023-04-18 07:53:51   \n",
      "5859059  210B2ED6583DC231   classic_bike  2023-04-29 07:33:55   \n",
      "5859060  D29CB39B9E3FC46A  electric_bike  2023-04-18 08:00:32   \n",
      "\n",
      "                    ended_at                 start_station_name  \\\n",
      "0        2022-05-23 23:40:19             Wabash Ave & Grand Ave   \n",
      "1        2022-05-11 09:31:22  DuSable Lake Shore Dr & Monroe St   \n",
      "2        2022-05-26 18:58:18            Clinton St & Madison St   \n",
      "3        2022-05-10 07:38:49            Clinton St & Madison St   \n",
      "4        2022-05-10 17:36:57            Clinton St & Madison St   \n",
      "...                      ...                                ...   \n",
      "5859056  2023-04-29 21:30:19               Halsted St & 18th St   \n",
      "5859057  2023-04-24 09:22:27               Halsted St & 18th St   \n",
      "5859058  2023-04-18 07:59:16         Franklin St & Jackson Blvd   \n",
      "5859059  2023-04-29 07:38:57             Michigan Ave & Lake St   \n",
      "5859060  2023-04-18 08:02:35         Franklin St & Jackson Blvd   \n",
      "\n",
      "        start_station_id             end_station_name end_station_id  \\\n",
      "0           TA1307000117       Halsted St & Roscoe St   TA1309000025   \n",
      "1                  13300  Field Blvd & South Water St          15534   \n",
      "2           TA1305000032      Wood St & Milwaukee Ave          13221   \n",
      "3           TA1305000032       Clark St & Randolph St   TA1305000030   \n",
      "4           TA1305000032          Morgan St & Lake St   TA1306000015   \n",
      "...                  ...                          ...            ...   \n",
      "5859056            13099    Blue Island Ave & 18th St          13135   \n",
      "5859057            13099    Blue Island Ave & 18th St          13135   \n",
      "5859058     TA1305000025       Clark St & Randolph St   TA1305000030   \n",
      "5859059     TA1305000011       Clark St & Randolph St   TA1305000030   \n",
      "5859060     TA1305000025    Clark St & Ida B Wells Dr   TA1305000009   \n",
      "\n",
      "         start_lat  start_lng    end_lat    end_lng member_casual  \n",
      "0        41.891466 -87.626761  41.943670 -87.648950        member  \n",
      "1        41.880958 -87.616743  41.886349 -87.617517        member  \n",
      "2        41.882242 -87.641066  41.907655 -87.672552        member  \n",
      "3        41.882242 -87.641066  41.884576 -87.631890        member  \n",
      "4        41.882242 -87.641066  41.885779 -87.651025        member  \n",
      "...            ...        ...        ...        ...           ...  \n",
      "5859056  41.857506 -87.645991  41.857556 -87.661535        casual  \n",
      "5859057  41.857506 -87.645991  41.857556 -87.661535        casual  \n",
      "5859058  41.877708 -87.635321  41.884576 -87.631890        casual  \n",
      "5859059  41.886022 -87.624398  41.884576 -87.631890        casual  \n",
      "5859060  41.878134 -87.635255  41.875933 -87.630585        casual  \n",
      "\n",
      "[5859061 rows x 13 columns]\n"
     ]
    }
   ],
   "source": [
    "folder_path = r'C:\\Users\\Romario Mason\\OneDrive\\Documents\\GitHub\\Portfolio_23\\Forecasting\\Divvy Bikes\\Data'\n",
    "\n",
    "# Merge the data files and assign to a DataFrame\n",
    "merged_data = merge_data_from_folder(folder_path)\n",
    "\n",
    "# Print the merged DataFrame\n",
    "print(merged_data)"
   ]
  },
  {
   "cell_type": "code",
   "execution_count": 62,
   "metadata": {},
   "outputs": [],
   "source": [
    "import pandas as pd\n",
    "import requests\n",
    "\n",
    "def get_daily_temperatures(df, lat_column, lng_column, api_key):\n",
    "    # Create a new column to store the temperature\n",
    "    df['temperature'] = None\n",
    "\n",
    "    # Iterate over the rows of the DataFrame\n",
    "    for index, row in df.iterrows():\n",
    "        start_time = row['started_at']\n",
    "        lat = row[lat_column]\n",
    "        lng = row[lng_column]\n",
    "\n",
    "        # Extract the date from the start_time column\n",
    "        date = start_time.date()\n",
    "\n",
    "        # Make a request to OpenWeatherMap API\n",
    "        url = f\"http://api.openweathermap.org/data/2.5/weather?lat={lat}&lon={lng}&appid={api_key}\"\n",
    "        response = requests.get(url)\n",
    "        data = response.json()\n",
    "\n",
    "        # Extract the temperature from the response\n",
    "        if 'main' in data and 'temp' in data['main']:\n",
    "            temperature = data['main']['temp']\n",
    "            # Convert temperature from Kelvin to Celsius\n",
    "            temperature_celsius = temperature - 273.15\n",
    "            df.at[index, 'temperature'] = temperature_celsius\n",
    "\n",
    "    # Calculate the average temperature per day\n",
    "    df['date'] = pd.to_datetime(df['started_at']).dt.date\n",
    "    df['average_temperature'] = df.groupby('date')['temperature'].transform('mean')\n",
    "\n",
    "    return df\n"
   ]
  },
  {
   "cell_type": "code",
   "execution_count": null,
   "metadata": {},
   "outputs": [],
   "source": [
    "api_key = '781c1c1db6188d3efbcac8f86c979a51'\n",
    "\n",
    "# Call the function to get daily temperatures and average temperature per day\n",
    "merged_data_with_temperatures = get_daily_temperatures(merged_data, 'start_lat', 'start_lng', api_key)\n",
    "\n",
    "# Print the DataFrame with temperature data\n",
    "print(merged_data_with_temperatures)"
   ]
  },
  {
   "cell_type": "code",
   "execution_count": 21,
   "metadata": {},
   "outputs": [],
   "source": [
    "def aggregate_rides_per_day(df):\n",
    "    # Convert 'started at' column to datetime format\n",
    "    df['started_at'] = pd.to_datetime(df['started_at'])\n",
    "\n",
    "    # Extract the date from 'started at' column\n",
    "    df['date'] = df['started_at'].dt.date\n",
    "\n",
    "    # Group the data by 'date' and 'member_casual', and count the rides\n",
    "    rides_per_day = df.groupby(['date', 'member_casual']).size().unstack(fill_value=0)\n",
    "\n",
    "    # Reset the index to bring 'date' as its own column\n",
    "    rides_per_day = rides_per_day.reset_index()\n",
    "\n",
    "    return rides_per_day"
   ]
  },
  {
   "cell_type": "code",
   "execution_count": 69,
   "metadata": {},
   "outputs": [
    {
     "name": "stdout",
     "output_type": "stream",
     "text": [
      "member_casual        date  casual  member\n",
      "0              2022-05-01    5113    7283\n",
      "1              2022-05-02    3734   10016\n",
      "2              2022-05-03    1408    4609\n",
      "3              2022-05-04    4536   11081\n",
      "4              2022-05-05    2367    7162\n",
      "..                    ...     ...     ...\n",
      "360            2023-04-26    3634   10578\n",
      "361            2023-04-27    5656   12639\n",
      "362            2023-04-28    4994   10409\n",
      "363            2023-04-29    4835    7110\n",
      "364            2023-04-30    2491    4876\n",
      "\n",
      "[365 rows x 3 columns]\n"
     ]
    }
   ],
   "source": [
    "\n",
    "rides_aggregated = aggregate_rides_per_day(merged_data)\n",
    "\n",
    "# Print the aggregated rides data\n",
    "print(rides_aggregated)"
   ]
  },
  {
   "cell_type": "code",
   "execution_count": 23,
   "metadata": {},
   "outputs": [],
   "source": [
    "def plot_aggregated_data(rides_aggregated):\n",
    "    # Create the time series graph\n",
    "    plt.figure(figsize=(12, 6))\n",
    "    rides_aggregated.plot(marker='o', linestyle='-', linewidth=2)\n",
    "\n",
    "    plt.title('Divvy Bike Rides - Total Rides per Day')\n",
    "    plt.xlabel('Date')\n",
    "    plt.ylabel('Total Rides')\n",
    "    plt.legend(title='Member Type')\n",
    "\n",
    "    plt.grid(True)\n",
    "    plt.tight_layout()\n",
    "    plt.show()"
   ]
  },
  {
   "cell_type": "code",
   "execution_count": 25,
   "metadata": {},
   "outputs": [],
   "source": [
    "def analyze_trend(df, date_column, data_column):\n",
    "    # Convert the date column to datetime format\n",
    "    df[date_column] = pd.to_datetime(df[date_column])\n",
    "\n",
    "    # Sort the DataFrame by the date column\n",
    "    df = df.sort_values(date_column)\n",
    "\n",
    "    # Calculate the trend by computing the slope of the trend line\n",
    "    trend = df[data_column].diff().sum()\n",
    "\n",
    "    if trend > 0:\n",
    "        trend_status = \"Trending Up\"\n",
    "    elif trend < 0:\n",
    "        trend_status = \"Trending Down\"\n",
    "    else:\n",
    "        trend_status = \"No Clear Trend\"\n",
    "\n",
    "    return trend_status"
   ]
  },
  {
   "cell_type": "code",
   "execution_count": 51,
   "metadata": {},
   "outputs": [],
   "source": [
    "def detect_seasonality(rides_aggregated, member_type):\n",
    "    # Select the rows for the specified member type\n",
    "    rides_data = rides_aggregated.loc[rides_aggregated['member'] == member_type]\n",
    "\n",
    "    # Convert 'date' column to datetime format and set as index\n",
    "    rides_data['date'] = pd.to_datetime(rides_data['date'])\n",
    "    rides_data.set_index('date', inplace=True)\n",
    "\n",
    "    # Perform seasonal decomposition analysis\n",
    "    result = seasonal_decompose(rides_data, model='additive')\n",
    "\n",
    "    # Extract the seasonal component\n",
    "    seasonal_component = result.seasonal\n",
    "\n",
    "    # Check if there is seasonality\n",
    "    has_seasonality = any(abs(seasonal_component) > 0.1)\n",
    "\n",
    "    return has_seasonality"
   ]
  },
  {
   "cell_type": "code",
   "execution_count": null,
   "metadata": {},
   "outputs": [],
   "source": [
    "member_type = 'casual'\n",
    "has_seasonality = detect_seasonality(rides_aggregated, member_type)\n",
    "\n",
    "# Print the seasonality result for the specified member type\n",
    "if has_seasonality:\n",
    "    print(f\"Seasonality is present in the {member_type} data.\")\n",
    "else:\n",
    "    print(f\"No significant seasonality is detected in the {member_type} data.\")"
   ]
  },
  {
   "cell_type": "code",
   "execution_count": 26,
   "metadata": {},
   "outputs": [
    {
     "name": "stdout",
     "output_type": "stream",
     "text": [
      "Casual Trend Analysis: Trending Down\n",
      "Member Trend Analysis: Trending Down\n"
     ]
    }
   ],
   "source": [
    "date_column = 'date'\n",
    "casual_trend = analyze_trend(rides_aggregated, date_column, 'casual')\n",
    "member_trend = analyze_trend(rides_aggregated, date_column, 'member')\n",
    "\n",
    "# Print the trend analysis results\n",
    "print(\"Casual Trend Analysis:\", casual_trend)\n",
    "print(\"Member Trend Analysis:\", member_trend)"
   ]
  },
  {
   "cell_type": "code",
   "execution_count": 55,
   "metadata": {},
   "outputs": [
    {
     "data": {
      "text/plain": [
       "<Figure size 864x432 with 0 Axes>"
      ]
     },
     "metadata": {},
     "output_type": "display_data"
    },
    {
     "data": {
      "image/png": "[encoded data removed]",
      "text/plain": [
       "<Figure size 432x288 with 1 Axes>"
      ]
     },
     "metadata": {
      "needs_background": "light"
     },
     "output_type": "display_data"
    }
   ],
   "source": [
    "plot_aggregated_data(rides_aggregated)"
   ]
  },
  {
   "cell_type": "code",
   "execution_count": 65,
   "metadata": {},
   "outputs": [],
   "source": [
    "#Drop temperature column\n",
    "rides_aggregated.drop('temperature', axis=1, inplace=True)"
   ]
  },
  {
   "cell_type": "code",
   "execution_count": 66,
   "metadata": {},
   "outputs": [],
   "source": [
    "from statsmodels.tsa.statespace.sarimax import SARIMAX\n",
    "def predict_rides(rides_aggregated):\n",
    "    # Convert 'date' column to datetime format\n",
    "    rides_aggregated['date'] = pd.to_datetime(rides_aggregated['date'])\n",
    "\n",
    "    # Set 'date' column as the index\n",
    "    rides_aggregated.set_index('date', inplace=True)\n",
    "\n",
    "    # Create an empty DataFrame to store the predictions\n",
    "    predictions = pd.DataFrame(columns=['Casual', 'Member'])\n",
    "\n",
    "    # Iterate over the unique dates\n",
    "    for date in rides_aggregated.index.unique():\n",
    "        # Select the data for the current date\n",
    "        data = rides_aggregated.loc[date]\n",
    "\n",
    "        # Create the SARIMAX model for 'Casual' column\n",
    "        model_casual = SARIMAX(data['Casual'], order=(1, 1, 1))\n",
    "        result_casual = model_casual.fit()\n",
    "\n",
    "        # Create the SARIMAX model for 'Member' column\n",
    "        model_member = SARIMAX(data['Member'], order=(1, 1, 1))\n",
    "        result_member = model_member.fit()\n",
    "\n",
    "        # Forecast the values for the next day\n",
    "        forecast_casual = result_casual.forecast(steps=1)\n",
    "        forecast_member = result_member.forecast(steps=1)\n",
    "\n",
    "        # Store the predictions in the DataFrame\n",
    "        predictions.loc[date] = [forecast_casual[0], forecast_member[0]]\n",
    "\n",
    "    return predictions"
   ]
  },
  {
   "cell_type": "code",
   "execution_count": null,
   "metadata": {},
   "outputs": [],
   "source": [
    "# Call the function to predict the values for 'Casual' and 'Member'\n",
    "predicted_rides = predict_rides(rides_aggregated)\n",
    "\n",
    "# Print the predicted values\n",
    "print(predicted_rides)"
   ]
  }
 ],
 "metadata": {
  "kernelspec": {
   "display_name": "Python 3",
   "language": "python",
   "name": "python3"
  },
  "language_info": {
   "codemirror_mode": {
    "name": "ipython",
    "version": 3
   },
   "file_extension": ".py",
   "mimetype": "text/x-python",
   "name": "python",
   "nbconvert_exporter": "python",
   "pygments_lexer": "ipython3",
   "version": "3.8.10"
  },
  "orig_nbformat": 4
 },
 "nbformat": 4,
 "nbformat_minor": 2
}
